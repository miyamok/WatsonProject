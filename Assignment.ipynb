{
 "cells": [
  {
   "cell_type": "markdown",
   "metadata": {
    "collapsed": true
   },
   "source": [
    "# My Jupyter Notebook on IBM Watson Studio"
   ]
  },
  {
   "cell_type": "markdown",
   "metadata": {},
   "source": [
    "**Kenji Miyamoto**\n",
    "\n",
    "Data Scientist, ABC Software Inc."
   ]
  },
  {
   "cell_type": "markdown",
   "metadata": {},
   "source": [
    "*I am interested in data science because it is not only a strong business tool but also interacting with several domains, as computer science, mathematics, economics, marketing, etc.*\n",
    "*It is nice to see that those different matters work together and make new achievements, and I believe I'll enjoy it.*"
   ]
  },
  {
   "cell_type": "markdown",
   "metadata": {},
   "source": [
    "### The code in the cell below is supposed to print out the string \"1 + 1\""
   ]
  },
  {
   "cell_type": "code",
   "execution_count": 4,
   "metadata": {},
   "outputs": [
    {
     "name": "stdout",
     "output_type": "stream",
     "text": [
      "1 + 1\n"
     ]
    }
   ],
   "source": [
    "print(\"1 + 1\")"
   ]
  },
  {
   "cell_type": "markdown",
   "metadata": {},
   "source": [
    "We have learned\n",
    "* Jupyter Notebook and\n",
    "* IBM Watson Studio\n",
    "\n",
    "which are useful to practice data science.\n",
    "\n",
    "We have also learned\n",
    "1. IBM SPSS Modeler,\n",
    "2. SPSS Statistics,\n",
    "3. etc.\n",
    "\n",
    "which are also useful to ~~xxxx~~ practice data science.\n",
    "\n",
    "Apparently this markdown cell includes bulleted list, numbered list, and strikethrough as required."
   ]
  },
  {
   "cell_type": "code",
   "execution_count": null,
   "metadata": {},
   "outputs": [],
   "source": []
  }
 ],
 "metadata": {
  "kernelspec": {
   "display_name": "Python 3.10",
   "language": "python",
   "name": "python3"
  },
  "language_info": {
   "codemirror_mode": {
    "name": "ipython",
    "version": 3
   },
   "file_extension": ".py",
   "mimetype": "text/x-python",
   "name": "python",
   "nbconvert_exporter": "python",
   "pygments_lexer": "ipython3",
   "version": "3.10.6"
  }
 },
 "nbformat": 4,
 "nbformat_minor": 1
}
